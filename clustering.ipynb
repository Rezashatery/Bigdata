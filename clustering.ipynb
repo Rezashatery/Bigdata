{
 "cells": [
  {
   "cell_type": "markdown",
   "id": "d85e9899-bb71-46b2-bb23-add9253daceb",
   "metadata": {},
   "source": [
    "\n",
    "Measurements of geometrical properties of kernels belonging to three different varieties of wheat. A soft X-ray technique and GRAINS package were used to construct all seven, real-valued attributes.\n",
    "The examined group comprised kernels belonging to three different varieties of wheat: Kama, Rosa and Canadian, \n",
    "70 elements each, randomly selected for\n",
    "\n",
    "the experiment. \n",
    "High quality visualization of the internal kernel structure was detected using a soft X-ray technique. It is non-destructive and considerably cheaper than other more sophisticated imaging techniques like scanning microscopy or laser technology. The images were recorded on 13x18 cm X-ray KODAK plates. Studies were conducted using combine harvested wheat grain originating from experimental fields, explored at the Institute of Agrophysics of the Polish Academy of Sciences in Lublin.\n",
    "\n",
    "\n"
   ]
  },
  {
   "cell_type": "code",
   "execution_count": 72,
   "id": "65c505be-242f-4895-b168-db0143d24f75",
   "metadata": {},
   "outputs": [
    {
     "name": "stdout",
     "output_type": "stream",
     "text": [
      "Spark Version: 3.5.0\n"
     ]
    }
   ],
   "source": [
    "from pyspark.sql import SparkSession \n",
    "spark = SparkSession.builder.appName('cluster').getOrCreate() \n",
    "print('Spark Version: {}'.format(spark.version))\n"
   ]
  },
  {
   "cell_type": "code",
   "execution_count": 73,
   "id": "0540c4e2-5ea4-4f46-84e5-76ce99dab755",
   "metadata": {},
   "outputs": [
    {
     "name": "stdout",
     "output_type": "stream",
     "text": [
      "+-----+---------+-----------+------------------+------------------+---------------------+----------------+\n",
      "| area|perimeter|compactness|  length_of_kernel|   width_of_kernel|asymmetry_coefficient|length_of_groove|\n",
      "+-----+---------+-----------+------------------+------------------+---------------------+----------------+\n",
      "|15.26|    14.84|      0.871|             5.763|             3.312|                2.221|            5.22|\n",
      "|14.88|    14.57|     0.8811| 5.553999999999999|             3.333|                1.018|           4.956|\n",
      "|14.29|    14.09|      0.905|             5.291|3.3369999999999997|                2.699|           4.825|\n",
      "|13.84|    13.94|     0.8955|             5.324|3.3789999999999996|                2.259|           4.805|\n",
      "|16.14|    14.99|     0.9034|5.6579999999999995|             3.562|                1.355|           5.175|\n",
      "+-----+---------+-----------+------------------+------------------+---------------------+----------------+\n",
      "only showing top 5 rows\n",
      "\n"
     ]
    }
   ],
   "source": [
    "#Loading the data \n",
    "\n",
    "dataset = spark.read.csv(\"Spark/Spark/Data/seeds_dataset.csv\",header=True,inferSchema=True) \n",
    "\n",
    "#show the data in the above file using the below command \n",
    "\n",
    "dataset.show(5)\n"
   ]
  },
  {
   "cell_type": "code",
   "execution_count": 74,
   "id": "419d6906-9ab0-43bf-ab00-feada2976961",
   "metadata": {},
   "outputs": [
    {
     "name": "stdout",
     "output_type": "stream",
     "text": [
      "root\n",
      " |-- area: double (nullable = true)\n",
      " |-- perimeter: double (nullable = true)\n",
      " |-- compactness: double (nullable = true)\n",
      " |-- length_of_kernel: double (nullable = true)\n",
      " |-- width_of_kernel: double (nullable = true)\n",
      " |-- asymmetry_coefficient: double (nullable = true)\n",
      " |-- length_of_groove: double (nullable = true)\n",
      "\n"
     ]
    }
   ],
   "source": [
    "#Print schema \n",
    "dataset.printSchema()\n"
   ]
  },
  {
   "cell_type": "code",
   "execution_count": 75,
   "id": "36708559-8232-4b2e-96f7-e08de9983b1f",
   "metadata": {},
   "outputs": [
    {
     "name": "stdout",
     "output_type": "stream",
     "text": [
      "+--------------------+\n",
      "|            features|\n",
      "+--------------------+\n",
      "|[15.26,14.84,0.87...|\n",
      "|[14.88,14.57,0.88...|\n",
      "|[14.29,14.09,0.90...|\n",
      "|[13.84,13.94,0.89...|\n",
      "|[16.14,14.99,0.90...|\n",
      "+--------------------+\n",
      "only showing top 5 rows\n",
      "\n"
     ]
    }
   ],
   "source": [
    "from pyspark.ml.feature import VectorAssembler \n",
    "\n",
    "vec_assembler = VectorAssembler(inputCols = dataset.columns, \n",
    "\t\t\t\t\t\t\t\toutputCol='features') \n",
    "\n",
    "final_data = vec_assembler.transform(dataset) \n",
    "final_data.select('features').show(5)\n"
   ]
  },
  {
   "cell_type": "code",
   "execution_count": 76,
   "id": "40cb6ab4-3fc2-4dac-8ad8-0d6b7c028139",
   "metadata": {},
   "outputs": [
    {
     "name": "stdout",
     "output_type": "stream",
     "text": [
      "+--------------------+\n",
      "|      scaledFeatures|\n",
      "+--------------------+\n",
      "|[5.24452795332028...|\n",
      "|[5.11393027165175...|\n",
      "|[4.91116018695588...|\n",
      "|[4.75650503761158...|\n",
      "|[5.54696468981581...|\n",
      "+--------------------+\n",
      "only showing top 5 rows\n",
      "\n"
     ]
    }
   ],
   "source": [
    "from pyspark.ml.feature import StandardScaler \n",
    "\n",
    "scaler = StandardScaler(inputCol=\"features\", \n",
    "\t\t\t\t\t\toutputCol=\"scaledFeatures\", \n",
    "\t\t\t\t\t\twithStd=True, \n",
    "\t\t\t\t\t\twithMean=False) \n",
    "\n",
    "# Compute summary statistics by fitting the StandardScaler \n",
    "scalerModel = scaler.fit(final_data) \n",
    "\n",
    "# Normalize each feature to have unit standard deviation. \n",
    "final_data = scalerModel.transform(final_data) \n",
    "\n",
    "final_data.select('scaledFeatures').show(5)\n"
   ]
  },
  {
   "cell_type": "code",
   "execution_count": 77,
   "id": "5c69b0f2-0a2b-4990-8a7a-521dccd78d04",
   "metadata": {},
   "outputs": [
    {
     "name": "stdout",
     "output_type": "stream",
     "text": [
      "Silhouette Score for k = 2 is 0.6613125393827092\n",
      "Silhouette Score for k = 3 is 0.5937831799608204\n",
      "Silhouette Score for k = 4 is 0.4898001960447284\n",
      "Silhouette Score for k = 5 is 0.42485671107555983\n",
      "Silhouette Score for k = 6 is 0.4441396199232223\n",
      "Silhouette Score for k = 7 is 0.440754397550797\n",
      "Silhouette Score for k = 8 is 0.40784522986275235\n",
      "Silhouette Score for k = 9 is 0.4025364018462468\n"
     ]
    }
   ],
   "source": [
    "#Importing the model \n",
    "from pyspark.ml.clustering import KMeans \n",
    "from pyspark.ml.evaluation import ClusteringEvaluator \n",
    "\n",
    "silhouette_score=[] \n",
    "\n",
    "evaluator = ClusteringEvaluator(predictionCol='prediction', \n",
    "\t\t\t\t\t\t\t\tfeaturesCol='scaledFeatures',\n",
    "\t\t\t\t\t\t\t\tmetricName='silhouette', \n",
    "\t\t\t\t\t\t\t\tdistanceMeasure='squaredEuclidean') \n",
    "\n",
    "for i in range(2,10): \n",
    "\tkmeans=KMeans(featuresCol='scaledFeatures', k=i) \n",
    "\tmodel=kmeans.fit(final_data) \n",
    "\tpredictions=model.transform(final_data) \n",
    "\tscore=evaluator.evaluate(predictions) \n",
    "\tsilhouette_score.append(score) \n",
    "\tprint('Silhouette Score for k =',i,'is',score)\n"
   ]
  },
  {
   "cell_type": "code",
   "execution_count": 78,
   "id": "9b16d35e-4ca2-4d89-a5f0-3ae5408adad4",
   "metadata": {},
   "outputs": [
    {
     "data": {
      "image/png": "[encoded data removed]",
      "text/plain": [
       "<Figure size 640x480 with 1 Axes>"
      ]
     },
     "metadata": {},
     "output_type": "display_data"
    }
   ],
   "source": [
    "#Visualizing the silhouette scores in a plot \n",
    "import matplotlib.pyplot as plt \n",
    "\n",
    "plt.plot(range(2,10),silhouette_score) \n",
    "plt.xlabel('k') \n",
    "plt.ylabel('silhouette score') \n",
    "plt.title('Silhouette Score') \n",
    "plt.show()\n"
   ]
  },
  {
   "cell_type": "code",
   "execution_count": 61,
   "id": "e252fbd2-276d-431a-8447-600c3d88aa02",
   "metadata": {},
   "outputs": [],
   "source": [
    "# Trains a k-means model. \n",
    "kmeans = KMeans(featuresCol='scaledFeatures',k=3) \n",
    "model = kmeans.fit(final_data) \n",
    "predictions = model.transform(final_data)\n"
   ]
  },
  {
   "cell_type": "code",
   "execution_count": 62,
   "id": "0ad498c8-ad57-46e2-bf9d-d39d7ead5061",
   "metadata": {},
   "outputs": [
    {
     "name": "stdout",
     "output_type": "stream",
     "text": [
      "Cluster Centers: \n",
      "[ 4.93382436 10.94691274 37.30542404 12.41332714  8.60366812  1.82917353\n",
      " 10.40106154]\n",
      "[ 6.35645488 12.40730852 37.41990178 13.93860446  9.7892399   2.41585013\n",
      " 12.29286107]\n",
      "[ 4.06660859 10.14191893 35.84098009 11.81592066  7.52397236  3.1823335\n",
      " 10.39801233]\n"
     ]
    }
   ],
   "source": [
    "# Printing cluster centers \n",
    "centers = model.clusterCenters() \n",
    "print(\"Cluster Centers: \") \n",
    "for center in centers: \n",
    "\tprint(center)\n"
   ]
  }
 ],
 "metadata": {
  "kernelspec": {
   "display_name": "Python 3 (ipykernel)",
   "language": "python",
   "name": "python3"
  },
  "language_info": {
   "codemirror_mode": {
    "name": "ipython",
    "version": 3
   },
   "file_extension": ".py",
   "mimetype": "text/x-python",
   "name": "python",
   "nbconvert_exporter": "python",
   "pygments_lexer": "ipython3",
   "version": "3.10.12"
  }
 },
 "nbformat": 4,
 "nbformat_minor": 5
}
